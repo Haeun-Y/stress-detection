{
  "nbformat": 4,
  "nbformat_minor": 0,
  "metadata": {
    "colab": {
      "provenance": [],
      "authorship_tag": "ABX9TyPkqN/4Mc07bc540o5IZ2wS",
      "include_colab_link": true
    },
    "kernelspec": {
      "name": "python3",
      "display_name": "Python 3"
    },
    "language_info": {
      "name": "python"
    }
  },
  "cells": [
    {
      "cell_type": "markdown",
      "metadata": {
        "id": "view-in-github",
        "colab_type": "text"
      },
      "source": [
        "<a href=\"https://colab.research.google.com/github/Haeun-Y/stress-detection/blob/main/Stress_detection.ipynb\" target=\"_parent\"><img src=\"https://colab.research.google.com/assets/colab-badge.svg\" alt=\"Open In Colab\"/></a>"
      ]
    },
    {
      "cell_type": "markdown",
      "source": [
        "#stress.csv 불러오기"
      ],
      "metadata": {
        "id": "_iakbNRAzGko"
      }
    },
    {
      "cell_type": "code",
      "execution_count": null,
      "metadata": {
        "colab": {
          "base_uri": "https://localhost:8080/"
        },
        "id": "o9JAnikM4kOy",
        "outputId": "596a9643-1231-4ce6-ab34-938a712b83af"
      },
      "outputs": [
        {
          "output_type": "stream",
          "name": "stdout",
          "text": [
            "          subreddit post_id sentence_range  \\\n",
            "0              ptsd  8601tu       (15, 20)   \n",
            "1        assistance  8lbrx9         (0, 5)   \n",
            "2              ptsd  9ch1zh       (15, 20)   \n",
            "3     relationships  7rorpp        [5, 10]   \n",
            "4  survivorsofabuse  9p2gbc         [0, 5]   \n",
            "\n",
            "                                                text     id  label  \\\n",
            "0  He said he had not felt that way before, sugge...  33181      1   \n",
            "1  Hey there r/assistance, Not sure if this is th...   2606      0   \n",
            "2  My mom then hit me with the newspaper and it s...  38816      1   \n",
            "3  until i met my new boyfriend, he is amazing, h...    239      1   \n",
            "4  October is Domestic Violence Awareness Month a...   1421      1   \n",
            "\n",
            "   confidence  social_timestamp  social_karma  syntax_ari  ...  \\\n",
            "0         0.8        1521614353             5    1.806818  ...   \n",
            "1         1.0        1527009817             4    9.429737  ...   \n",
            "2         0.8        1535935605             2    7.769821  ...   \n",
            "3         0.6        1516429555             0    2.667798  ...   \n",
            "4         0.8        1539809005            24    7.554238  ...   \n",
            "\n",
            "   lex_dal_min_pleasantness  lex_dal_min_activation  lex_dal_min_imagery  \\\n",
            "0                     1.000                  1.1250                  1.0   \n",
            "1                     1.125                  1.0000                  1.0   \n",
            "2                     1.000                  1.1429                  1.0   \n",
            "3                     1.000                  1.1250                  1.0   \n",
            "4                     1.000                  1.1250                  1.0   \n",
            "\n",
            "   lex_dal_avg_activation  lex_dal_avg_imagery  lex_dal_avg_pleasantness  \\\n",
            "0                 1.77000              1.52211                   1.89556   \n",
            "1                 1.69586              1.62045                   1.88919   \n",
            "2                 1.83088              1.58108                   1.85828   \n",
            "3                 1.75356              1.52114                   1.98848   \n",
            "4                 1.77644              1.64872                   1.81456   \n",
            "\n",
            "   social_upvote_ratio  social_num_comments  syntax_fk_grade  sentiment  \n",
            "0                 0.86                    1         3.253573  -0.002742  \n",
            "1                 0.65                    2         8.828316   0.292857  \n",
            "2                 0.67                    0         7.841667   0.011894  \n",
            "3                 0.50                    5         4.104027   0.141671  \n",
            "4                 1.00                    1         7.910952  -0.204167  \n",
            "\n",
            "[5 rows x 116 columns]\n"
          ]
        }
      ],
      "source": [
        "import pandas as pd\n",
        "import numpy as np\n",
        "data = pd.read_csv(\"stress.csv\")\n",
        "print(data.head())"
      ]
    },
    {
      "cell_type": "markdown",
      "source": [
        "#No Stress=0, stress=1로 라벨링\n"
      ],
      "metadata": {
        "id": "81x6ZE1hzQcZ"
      }
    },
    {
      "cell_type": "code",
      "source": [
        "data[\"label\"] = data[\"label\"].map({0: \"No Stress\", 1: \"Stress\"})\n",
        "data = data[[\"text\", \"label\"]]\n",
        "print(data.head())"
      ],
      "metadata": {
        "colab": {
          "base_uri": "https://localhost:8080/"
        },
        "id": "VJe93PNjPQ7q",
        "outputId": "fd5ece20-b810-4b2a-e566-8f7006dcc843"
      },
      "execution_count": null,
      "outputs": [
        {
          "output_type": "stream",
          "name": "stdout",
          "text": [
            "                                                text      label\n",
            "0  He said he had not felt that way before, sugge...     Stress\n",
            "1  Hey there r/assistance, Not sure if this is th...  No Stress\n",
            "2  My mom then hit me with the newspaper and it s...     Stress\n",
            "3  until i met my new boyfriend, he is amazing, h...     Stress\n",
            "4  October is Domestic Violence Awareness Month a...     Stress\n"
          ]
        }
      ]
    },
    {
      "cell_type": "code",
      "source": [
        "print(data.isnull().sum())"
      ],
      "metadata": {
        "colab": {
          "base_uri": "https://localhost:8080/"
        },
        "id": "lBTn5gaAz-fS",
        "outputId": "41475c3e-11cd-479e-ea46-2b5ce465a5b1"
      },
      "execution_count": null,
      "outputs": [
        {
          "output_type": "stream",
          "name": "stdout",
          "text": [
            "text     0\n",
            "label    0\n",
            "dtype: int64\n"
          ]
        }
      ]
    },
    {
      "cell_type": "markdown",
      "source": [
        "#Combination of multiple models and vectorizer"
      ],
      "metadata": {
        "id": "7UWVaY5tfuwi"
      }
    },
    {
      "cell_type": "markdown",
      "source": [
        "###count+LR"
      ],
      "metadata": {
        "id": "v6GqjsKOf5dR"
      }
    },
    {
      "cell_type": "code",
      "source": [
        "from sklearn.feature_extraction.text import CountVectorizer\n",
        "from sklearn.model_selection import train_test_split\n",
        "\n",
        "\n",
        "\n",
        "x = np.array(data[\"text\"])\n",
        "y = np.array(data[\"label\"])\n",
        "\n",
        "cv = CountVectorizer()\n",
        "X = cv.fit_transform(x)\n",
        "xtrain, xtest, ytrain, ytest = train_test_split(X, y, \n",
        "                                                test_size=0.33, \n",
        "                                                random_state=42)"
      ],
      "metadata": {
        "id": "rUjC7_7tzYg1"
      },
      "execution_count": null,
      "outputs": []
    },
    {
      "cell_type": "code",
      "source": [
        "from sklearn.metrics import accuracy_score\n",
        "from sklearn.linear_model import LogisticRegression\n",
        "\n",
        "\n",
        "LR = LogisticRegression()\n",
        "LR.fit(xtrain, ytrain)\n",
        "y_pred=LR.predict(xtest)\n",
        "print('test accuracy:', accuracy_score(ytest,y_pred))"
      ],
      "metadata": {
        "colab": {
          "base_uri": "https://localhost:8080/"
        },
        "outputId": "9cfa8ddd-d59c-418d-fad1-b080305aa8a1",
        "id": "kf6pB-kafHPK"
      },
      "execution_count": null,
      "outputs": [
        {
          "output_type": "stream",
          "name": "stdout",
          "text": [
            "test accuracy: 0.743863393810032\n"
          ]
        },
        {
          "output_type": "stream",
          "name": "stderr",
          "text": [
            "/usr/local/lib/python3.8/dist-packages/sklearn/linear_model/_logistic.py:814: ConvergenceWarning: lbfgs failed to converge (status=1):\n",
            "STOP: TOTAL NO. of ITERATIONS REACHED LIMIT.\n",
            "\n",
            "Increase the number of iterations (max_iter) or scale the data as shown in:\n",
            "    https://scikit-learn.org/stable/modules/preprocessing.html\n",
            "Please also refer to the documentation for alternative solver options:\n",
            "    https://scikit-learn.org/stable/modules/linear_model.html#logistic-regression\n",
            "  n_iter_i = _check_optimize_result(\n"
          ]
        }
      ]
    },
    {
      "cell_type": "markdown",
      "source": [
        "###Count+RandomForest"
      ],
      "metadata": {
        "id": "Br3LUbnygEPw"
      }
    },
    {
      "cell_type": "code",
      "source": [
        "from sklearn.feature_extraction.text import CountVectorizer\n",
        "from sklearn.model_selection import train_test_split\n",
        "\n",
        "\n",
        "\n",
        "x = np.array(data[\"text\"])\n",
        "y = np.array(data[\"label\"])\n",
        "\n",
        "cv = CountVectorizer()\n",
        "X = cv.fit_transform(x)\n",
        "xtrain, xtest, ytrain, ytest = train_test_split(X, y, \n",
        "                                                test_size=0.33, \n",
        "                                                random_state=42)"
      ],
      "metadata": {
        "id": "t-TCflNjf-65"
      },
      "execution_count": null,
      "outputs": []
    },
    {
      "cell_type": "code",
      "source": [
        "from sklearn.ensemble import RandomForestClassifier\n",
        "\n",
        "max_accuracy = 0\n",
        "\n",
        "\n",
        "for x in range(100):\n",
        "    rf = RandomForestClassifier(random_state=x)\n",
        "    rf.fit(xtrain,ytrain)\n",
        "    y_pred = rf.predict(xtest)\n",
        "    current_accuracy = round(accuracy_score(y_pred,ytest)*100,2)\n",
        "    if(current_accuracy>max_accuracy):\n",
        "        max_accuracy = current_accuracy\n",
        "        best_x = x\n",
        "        \n",
        "#print(max_accuracy)\n",
        "#print(best_x)\n",
        "\n",
        "rf = RandomForestClassifier(random_state=best_x)\n",
        "rf.fit(xtrain,ytrain)\n",
        "y_pred = rf.predict(xtest)\n",
        "print('test accuracy:', accuracy_score(ytest,y_pred))"
      ],
      "metadata": {
        "colab": {
          "base_uri": "https://localhost:8080/"
        },
        "id": "Xew-QDwcgDwD",
        "outputId": "9a91155a-7bab-40a2-b17b-78dc778b4088"
      },
      "execution_count": null,
      "outputs": [
        {
          "output_type": "stream",
          "name": "stdout",
          "text": [
            "test accuracy: 0.7331910352187834\n"
          ]
        }
      ]
    },
    {
      "cell_type": "markdown",
      "source": [
        "###Count+BernoulliNB"
      ],
      "metadata": {
        "id": "IqIZMjvjgWno"
      }
    },
    {
      "cell_type": "code",
      "source": [
        "from sklearn.feature_extraction.text import CountVectorizer\n",
        "from sklearn.model_selection import train_test_split\n",
        "\n",
        "\n",
        "\n",
        "x = np.array(data[\"text\"])\n",
        "y = np.array(data[\"label\"])\n",
        "\n",
        "cv = CountVectorizer()\n",
        "X = cv.fit_transform(x)\n",
        "xtrain, xtest, ytrain, ytest = train_test_split(X, y, \n",
        "                                                test_size=0.33, \n",
        "                                                random_state=42)"
      ],
      "metadata": {
        "id": "jtP7N8u5ge66"
      },
      "execution_count": null,
      "outputs": []
    },
    {
      "cell_type": "code",
      "source": [
        "from sklearn.metrics import accuracy_score\n",
        "from sklearn.naive_bayes import BernoulliNB\n",
        "\n",
        "\n",
        "model1 = BernoulliNB()\n",
        "model1.fit(xtrain, ytrain)\n",
        "y_pred=model1.predict(xtest)\n",
        "print('test accuracy:', accuracy_score(ytest,y_pred))"
      ],
      "metadata": {
        "colab": {
          "base_uri": "https://localhost:8080/"
        },
        "outputId": "c73cd2cd-3f8c-468a-c1d0-42d50b2c1650",
        "id": "6nvR2OX8giHe"
      },
      "execution_count": null,
      "outputs": [
        {
          "output_type": "stream",
          "name": "stdout",
          "text": [
            "test accuracy: 0.7577374599786553\n"
          ]
        }
      ]
    },
    {
      "cell_type": "markdown",
      "source": [
        "###TFIDF+ Logistic Regression/BernoulliNB/Random Forest"
      ],
      "metadata": {
        "id": "rtFSZd9igqlm"
      }
    },
    {
      "cell_type": "code",
      "source": [
        "from sklearn.feature_extraction.text import CountVectorizer\n",
        "from sklearn.model_selection import train_test_split\n",
        "from sklearn.feature_extraction.text import TfidfVectorizer\n",
        "from sklearn.feature_extraction.text import TfidfTransformer\n",
        "\n",
        "x = np.array(data[\"text\"])\n",
        "y = np.array(data[\"label\"])\n",
        "\n",
        "tf=TfidfVectorizer()\n",
        "X=tf.fit_transform(x)\n",
        "xtrain, xtest, ytrain, ytest = train_test_split(X, y, \n",
        "                                                test_size=0.33, \n",
        "                                                random_state=42)"
      ],
      "metadata": {
        "id": "745qb4N1g0Vg"
      },
      "execution_count": null,
      "outputs": []
    },
    {
      "cell_type": "code",
      "source": [
        "from sklearn.metrics import accuracy_score\n",
        "from sklearn.linear_model import LogisticRegression\n",
        "\n",
        "\n",
        "LR = LogisticRegression()\n",
        "LR.fit(xtrain, ytrain)\n",
        "y_pred=LR.predict(xtest)\n",
        "print('test accuracy:', accuracy_score(ytest,y_pred))"
      ],
      "metadata": {
        "colab": {
          "base_uri": "https://localhost:8080/"
        },
        "outputId": "40b9782a-2238-4584-df75-343adbdc07ac",
        "id": "5HEDbyBrt5Wr"
      },
      "execution_count": null,
      "outputs": [
        {
          "output_type": "stream",
          "name": "stdout",
          "text": [
            "test accuracy: 0.7470651013874067\n"
          ]
        }
      ]
    },
    {
      "cell_type": "code",
      "source": [
        "from sklearn.metrics import accuracy_score\n",
        "from sklearn.naive_bayes import BernoulliNB\n",
        "\n",
        "model1 = BernoulliNB()\n",
        "model1.fit(xtrain, ytrain)\n",
        "y_pred=model1.predict(xtest)\n",
        "print('test accuracy:', accuracy_score(ytest,y_pred))"
      ],
      "metadata": {
        "colab": {
          "base_uri": "https://localhost:8080/"
        },
        "outputId": "9d55f34e-1bff-41f0-fcba-5e153f3b6f59",
        "id": "KoEHfutmgyFJ"
      },
      "execution_count": null,
      "outputs": [
        {
          "output_type": "stream",
          "name": "stdout",
          "text": [
            "test accuracy: 0.7577374599786553\n"
          ]
        }
      ]
    },
    {
      "cell_type": "code",
      "source": [
        "from sklearn.ensemble import RandomForestClassifier\n",
        "\n",
        "max_accuracy = 0\n",
        "\n",
        "\n",
        "for x in range(100):\n",
        "    rf = RandomForestClassifier(random_state=x)\n",
        "    rf.fit(xtrain,ytrain)\n",
        "    y_pred = rf.predict(xtest)\n",
        "    current_accuracy = round(accuracy_score(y_pred,ytest)*100,2)\n",
        "    if(current_accuracy>max_accuracy):\n",
        "        max_accuracy = current_accuracy\n",
        "        best_x = x\n",
        "        \n",
        "#print(max_accuracy)\n",
        "#print(best_x)\n",
        "\n",
        "rf = RandomForestClassifier(random_state=best_x)\n",
        "rf.fit(xtrain,ytrain)\n",
        "y_pred = rf.predict(xtest)\n",
        "print('test accuracy:', accuracy_score(ytest,y_pred))"
      ],
      "metadata": {
        "colab": {
          "base_uri": "https://localhost:8080/"
        },
        "outputId": "89bf9e61-363b-441f-f679-d6e9d8c91a3b",
        "id": "mFLBPSo_no64"
      },
      "execution_count": null,
      "outputs": [
        {
          "output_type": "stream",
          "name": "stdout",
          "text": [
            "test accuracy: 0.7427961579509071\n"
          ]
        }
      ]
    },
    {
      "cell_type": "markdown",
      "source": [
        "#bernoulliNB parameter"
      ],
      "metadata": {
        "id": "hcq3F5DS0Me6"
      }
    },
    {
      "cell_type": "code",
      "source": [
        "from sklearn.naive_bayes import BernoulliNB\n",
        "model=BernoulliNB()\n",
        "model.get_params().keys()"
      ],
      "metadata": {
        "colab": {
          "base_uri": "https://localhost:8080/"
        },
        "id": "eIXmwLPw0H7R",
        "outputId": "45e89027-6e57-4483-fa7c-8685fda6773a"
      },
      "execution_count": null,
      "outputs": [
        {
          "output_type": "execute_result",
          "data": {
            "text/plain": [
              "dict_keys(['alpha', 'binarize', 'class_prior', 'fit_prior'])"
            ]
          },
          "metadata": {},
          "execution_count": 6
        }
      ]
    },
    {
      "cell_type": "code",
      "source": [
        "from sklearn.metrics import accuracy_score\n",
        "from sklearn.linear_model import LogisticRegression\n",
        "from sklearn.naive_bayes import BernoulliNB\n",
        "from sklearn.ensemble import RandomForestClassifier\n",
        "\n",
        "model = BernoulliNB(alpha=1)\n",
        "model.fit(xtrain, ytrain)\n",
        "y_pred=model.predict(xtest)\n",
        "print('test accuracy:', accuracy_score(ytest,y_pred))"
      ],
      "metadata": {
        "colab": {
          "base_uri": "https://localhost:8080/"
        },
        "id": "ZZ1Ek0q30BmR",
        "outputId": "97987462-78f8-490a-dc46-79995ef81cde"
      },
      "execution_count": null,
      "outputs": [
        {
          "output_type": "stream",
          "name": "stdout",
          "text": [
            "test accuracy: 0.7577374599786553\n"
          ]
        }
      ]
    },
    {
      "cell_type": "code",
      "source": [
        "from sklearn.metrics import accuracy_score\n",
        "from sklearn.linear_model import LogisticRegression\n",
        "from sklearn.naive_bayes import BernoulliNB\n",
        "from sklearn.ensemble import RandomForestClassifier\n",
        "\n",
        "model1 = BernoulliNB(fit_prior=True)\n",
        "model1.fit(xtrain, ytrain)\n",
        "y_pred=model1.predict(xtest)\n",
        "print('test accuracy:', accuracy_score(ytest,y_pred))"
      ],
      "metadata": {
        "colab": {
          "base_uri": "https://localhost:8080/"
        },
        "id": "Ifl5JTAP0DuG",
        "outputId": "f926af3f-81de-4839-82bb-de10cedd077c"
      },
      "execution_count": null,
      "outputs": [
        {
          "output_type": "stream",
          "name": "stdout",
          "text": [
            "test accuracy: 0.7577374599786553\n"
          ]
        }
      ]
    },
    {
      "cell_type": "code",
      "source": [
        "# For training set\n",
        "from sklearn.metrics import classification_report\n",
        "\n",
        "print(classification_report(ytest, y_pred))"
      ],
      "metadata": {
        "colab": {
          "base_uri": "https://localhost:8080/"
        },
        "id": "GtnXqoPtEwvX",
        "outputId": "db541141-8b50-4f94-eb76-a5027f30bcff"
      },
      "execution_count": null,
      "outputs": [
        {
          "output_type": "stream",
          "name": "stdout",
          "text": [
            "              precision    recall  f1-score   support\n",
            "\n",
            "   No Stress       0.81      0.64      0.71       444\n",
            "      Stress       0.73      0.86      0.79       493\n",
            "\n",
            "    accuracy                           0.76       937\n",
            "   macro avg       0.77      0.75      0.75       937\n",
            "weighted avg       0.77      0.76      0.75       937\n",
            "\n"
          ]
        }
      ]
    },
    {
      "cell_type": "markdown",
      "source": [
        "# Other Machine Learning Classifiers."
      ],
      "metadata": {
        "id": "m52vNcn30a7t"
      }
    },
    {
      "cell_type": "code",
      "source": [
        "user = input(\"Enter a Text: \")\n",
        "data = cv.transform([user]).toarray()\n",
        "output = model.predict(data)\n",
        "output1=LR.predict(data)\n",
        "print(\"Bernoulli Naive Bayes:\",output)\n",
        "print(\"Logistic Regression:\", output1)"
      ],
      "metadata": {
        "colab": {
          "base_uri": "https://localhost:8080/"
        },
        "id": "oyh1WwtY0gd4",
        "outputId": "c68cda3b-b1cc-4324-f3d5-f540b0e8b1b4"
      },
      "execution_count": null,
      "outputs": [
        {
          "output_type": "stream",
          "name": "stdout",
          "text": [
            "Enter a Text: I am so tired\n",
            "Bernoulli Naive Bayes: ['No Stress']\n",
            "Logistic Regression: ['No Stress']\n"
          ]
        }
      ]
    },
    {
      "cell_type": "code",
      "source": [
        "user = input(\"Enter a Text: \")\n",
        "data = cv.transform([user]).toarray()\n",
        "output = model.predict(data)\n",
        "output1=LR.predict(data)\n",
        "print(\"Bernoulli Naive Bayes:\",output)\n",
        "print(\"Logistic Regression:\", output1)"
      ],
      "metadata": {
        "colab": {
          "base_uri": "https://localhost:8080/"
        },
        "id": "hQ3fxmKW0icy",
        "outputId": "67618b42-ebca-4706-b074-87ef4a820a9c"
      },
      "execution_count": null,
      "outputs": [
        {
          "output_type": "stream",
          "name": "stdout",
          "text": [
            "Enter a Text: I don't want to live.\n",
            "Bernoulli Naive Bayes: ['No Stress']\n",
            "Logistic Regression: ['No Stress']\n"
          ]
        }
      ]
    }
  ]
}